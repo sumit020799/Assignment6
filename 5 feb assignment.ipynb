{
 "cells": [
  {
   "attachments": {},
   "cell_type": "markdown",
   "metadata": {},
   "source": [
    "5 feb Assignment(Data Science Master)"
   ]
  },
  {
   "attachments": {},
   "cell_type": "markdown",
   "metadata": {},
   "source": [
    "1. Explain class and object with respect to Object-Oriented Programming. Give a suitable expample."
   ]
  },
  {
   "cell_type": "code",
   "execution_count": 26,
   "metadata": {},
   "outputs": [
    {
     "data": {
      "text/plain": [
       "'For example, let\\'s consider a class called \"Car\". This class can have attributes such as \"make\", \"model\", \"year\", \"color\",\\nand methods such as \"start\", \"accelerate\", \"brake\". An object of this class can be created by providing specific values for these \\nattributes. For instance, we can create an object named \"my_car\" with the make \"Toyota\", model \"Camry\", year \"2021\", and color \"blue\".\\nWe can then call methods on this object to perform actions such as starting the car, accelerating, or braking.'"
      ]
     },
     "execution_count": 26,
     "metadata": {},
     "output_type": "execute_result"
    }
   ],
   "source": [
    "'''In Object-Oriented Programming (OOP), a class is a blueprint or a template for creating objects that have similar\n",
    "properties and behaviors. It defines the attributes and methods that an object can have. An object, on the other hand,\n",
    "is an instance of a class. It is a tangible entity that can be created from a class and has its own unique state and behavior.'''\n",
    "\n",
    "#example\n",
    "'''For example, let's consider a class called \"Car\". This class can have attributes such as \"make\", \"model\", \"year\", \"color\",\n",
    "and methods such as \"start\", \"accelerate\", \"brake\". An object of this class can be created by providing specific values for these \n",
    "attributes. For instance, we can create an object named \"my_car\" with the make \"Toyota\", model \"Camry\", year \"2021\", and color \"blue\".\n",
    "We can then call methods on this object to perform actions such as starting the car, accelerating, or braking.'''\n"
   ]
  },
  {
   "attachments": {},
   "cell_type": "markdown",
   "metadata": {},
   "source": [
    "2. Name the four pillars of OOPs.\n"
   ]
  },
  {
   "cell_type": "code",
   "execution_count": 27,
   "metadata": {},
   "outputs": [
    {
     "data": {
      "text/plain": [
       "'The four pillars of OOPs are -\\n\\n1. Encapsulation: It is the mechanism of wrapping data and methods together into a single unit (class) and restricting access\\n to the internal details of the object. This helps in achieving data hiding and abstraction.\\n\\n2. Inheritance: It is the mechanism by which one class can inherit the properties (attributes and methods) of another class. \\nIt promotes code reusability and helps in creating a hierarchy of classes.\\n\\n3. Polymorphism: It is the ability of an object to take on many forms. It allows objects of different classes to be treated as if \\nthey were of the same class, thus promoting code flexibility and extensibility.\\n\\n4. Abstraction: It is the process of hiding complex implementation details and exposing only the necessary information to the user.\\n It helps in creating simpler and more manageable code'"
      ]
     },
     "execution_count": 27,
     "metadata": {},
     "output_type": "execute_result"
    }
   ],
   "source": [
    "'''The four pillars of OOPs are -\n",
    "\n",
    "1. Encapsulation: It is the mechanism of wrapping data and methods together into a single unit (class) and restricting access\n",
    " to the internal details of the object. This helps in achieving data hiding and abstraction.\n",
    "\n",
    "2. Inheritance: It is the mechanism by which one class can inherit the properties (attributes and methods) of another class. \n",
    "It promotes code reusability and helps in creating a hierarchy of classes.\n",
    "\n",
    "3. Polymorphism: It is the ability of an object to take on many forms. It allows objects of different classes to be treated as if \n",
    "they were of the same class, thus promoting code flexibility and extensibility.\n",
    "\n",
    "4. Abstraction: It is the process of hiding complex implementation details and exposing only the necessary information to the user.\n",
    " It helps in creating simpler and more manageable code'''"
   ]
  },
  {
   "attachments": {},
   "cell_type": "markdown",
   "metadata": {},
   "source": [
    "3. Explain why the _ _init_ _() function is used. Give a suitable example."
   ]
  },
  {
   "cell_type": "code",
   "execution_count": 28,
   "metadata": {},
   "outputs": [],
   "source": [
    "'''The init() function is used in object-oriented programming to initialize the attributes of an object when it is created.\n",
    "It is also known as a constructor method. The init() function is called automatically when an object is created and it sets\n",
    "the initial values of the object's attributes. This helps in ensuring that the object is in a valid state when it is created.\n",
    "The init() function is called automatically when an object is created and it sets the initial values of the object's attributes.\n",
    "This helps in ensuring that the object is in a valid state when it is created.'''\n",
    "\n",
    "class pokemon:\n",
    "    def __init__(self, power, speed, rank):\n",
    "        self.power = power\n",
    "        self.speed = speed\n",
    "        self.rank= rank\n",
    "\n",
    "my_pokemon = pokemon(\"Pikachu\", 42, 3)        "
   ]
  },
  {
   "attachments": {},
   "cell_type": "markdown",
   "metadata": {},
   "source": [
    "4. why self is used in OOPs?"
   ]
  },
  {
   "cell_type": "code",
   "execution_count": 29,
   "metadata": {},
   "outputs": [
    {
     "name": "stdout",
     "output_type": "stream",
     "text": [
      "Hi, my name is sumit\n"
     ]
    },
    {
     "data": {
      "text/plain": [
       "'Using the self keyword allows us to create multiple instances of a class with different attribute values and \\ncall methods on each instance without affecting the others.'"
      ]
     },
     "execution_count": 29,
     "metadata": {},
     "output_type": "execute_result"
    }
   ],
   "source": [
    "'''In object-oriented programming, the self keyword is used to refer to the instance of a class. \n",
    "When a method is called on an object, the self keyword is used to access the attributes and methods of that object.'''\n",
    "\n",
    "#for example\n",
    "class Person:\n",
    "    def __init__(self, name):\n",
    "        self.name = name\n",
    "\n",
    "    def introduce(self):\n",
    "        print(\"Hi, my name is\", self.name)\n",
    "\n",
    "person1 = Person(\"sumit\")\n",
    "person1.introduce()        \n",
    "\n",
    "'''Using the self keyword allows us to create multiple instances of a class with different attribute values and \n",
    "call methods on each instance without affecting the others.'''"
   ]
  },
  {
   "attachments": {},
   "cell_type": "markdown",
   "metadata": {},
   "source": [
    "5. What is inheritance? Give an example for each type of inheritance.\n",
    "\n",
    "Inheritance is a feature of object-oriented programming that allows a class to inherit attributes and methods \n",
    "from one to another class is called inheritance.\n",
    "There are four types of inheritance:\n",
    "1. Single \n",
    "2. Multiple\n",
    "3. Multi-level\n",
    "4. Hierarchical"
   ]
  },
  {
   "cell_type": "code",
   "execution_count": 31,
   "metadata": {},
   "outputs": [],
   "source": [
    "#Single Inheritance\n",
    "\n",
    "class Animal:\n",
    "    def __init__(self, name):\n",
    "        self.name = name\n",
    "\n",
    "    def speak(self):\n",
    "        pass\n",
    "\n",
    "class Dog(Animal):\n",
    "    def speak(self):\n",
    "        return \"bhaww!\"\n",
    "#The Dog class inherits from the Animal class and overrides the speak() method.    "
   ]
  },
  {
   "cell_type": "code",
   "execution_count": 32,
   "metadata": {},
   "outputs": [
    {
     "name": "stdout",
     "output_type": "stream",
     "text": [
      "German Shephred\n",
      "bhaww!\n"
     ]
    }
   ],
   "source": [
    "\n",
    "my_dog = Dog(\"German Shephred\")\n",
    "\n",
    "print(my_dog.name)  \n",
    "print(my_dog.speak()) "
   ]
  },
  {
   "cell_type": "code",
   "execution_count": 33,
   "metadata": {},
   "outputs": [],
   "source": [
    "#Multiple Inheritance\n",
    "class Flyer:\n",
    "    def fly(self):\n",
    "        print(\"I'm flying!\")\n",
    "\n",
    "class Swimmer:\n",
    "    def swim(self):\n",
    "        print(\"I'm swimming!\")\n",
    "\n",
    "class Duck(Flyer, Swimmer):\n",
    "    pass\n",
    "#The Duck class inherits from both the Flyer and Swimmer classes and can call their respective methods."
   ]
  },
  {
   "cell_type": "code",
   "execution_count": 34,
   "metadata": {},
   "outputs": [
    {
     "name": "stdout",
     "output_type": "stream",
     "text": [
      "I'm flying!\n",
      "I'm swimming!\n"
     ]
    }
   ],
   "source": [
    "my_duck = Duck()\n",
    "\n",
    "my_duck.fly() \n",
    "my_duck.swim()"
   ]
  },
  {
   "cell_type": "code",
   "execution_count": 35,
   "metadata": {},
   "outputs": [],
   "source": [
    "#Multi-level Inheritance\n",
    "class Animal:\n",
    "    def __init__(self, name):\n",
    "        self.name = name\n",
    "\n",
    "class Mammal(Animal):\n",
    "    def feed_young(self):\n",
    "        print(\"Feeding my young...\")\n",
    "\n",
    "class Cat(Mammal):\n",
    "    def meow(self):\n",
    "        print(\"Meow!\")\n",
    "#The Cat class inherits from the Mammal class, which in turn inherits from the Animal class.        "
   ]
  },
  {
   "cell_type": "code",
   "execution_count": 36,
   "metadata": {},
   "outputs": [
    {
     "name": "stdout",
     "output_type": "stream",
     "text": [
      "Feeding my young...\n",
      "Meow!\n"
     ]
    }
   ],
   "source": [
    "my_cat = Cat(\"Fluffy\")\n",
    "\n",
    "my_cat.feed_young() \n",
    "my_cat.meow() "
   ]
  },
  {
   "cell_type": "code",
   "execution_count": 37,
   "metadata": {},
   "outputs": [],
   "source": [
    "#Hierarchical inheritance\n",
    "class Vehicle:\n",
    "    def __init__(self, make, model):\n",
    "        self.make = make\n",
    "        self.model = model\n",
    "\n",
    "class Car(Vehicle):\n",
    "    def drive(self):\n",
    "        print(\"Driving my car...\")\n",
    "\n",
    "class Truck(Vehicle):\n",
    "    def haul(self):\n",
    "        print(\"please haul my goods\")\n",
    "\n",
    "#Both the Car and Truck classes inherit from the Vehicle class.        "
   ]
  },
  {
   "cell_type": "code",
   "execution_count": 38,
   "metadata": {},
   "outputs": [
    {
     "name": "stdout",
     "output_type": "stream",
     "text": [
      "Driving my car...\n"
     ]
    }
   ],
   "source": [
    "my_car = Car(\"tata\", \"punch\")\n",
    "my_truck = Truck(\"Ford\", \"F-150\")\n",
    "my_car.drive()\n"
   ]
  },
  {
   "cell_type": "code",
   "execution_count": null,
   "metadata": {},
   "outputs": [],
   "source": []
  }
 ],
 "metadata": {
  "kernelspec": {
   "display_name": "Python 3",
   "language": "python",
   "name": "python3"
  },
  "language_info": {
   "codemirror_mode": {
    "name": "ipython",
    "version": 3
   },
   "file_extension": ".py",
   "mimetype": "text/x-python",
   "name": "python",
   "nbconvert_exporter": "python",
   "pygments_lexer": "ipython3",
   "version": "3.11.4"
  },
  "orig_nbformat": 4
 },
 "nbformat": 4,
 "nbformat_minor": 2
}
